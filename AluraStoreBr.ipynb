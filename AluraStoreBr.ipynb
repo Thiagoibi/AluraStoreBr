{
  "cells": [
    {
      "cell_type": "markdown",
      "metadata": {
        "id": "nqytPrMvqn_l"
      },
      "source": [
        "# Relatório: Análise Exploratória - Praticando Python para Data Science: Challenge Alura Store\n",
        "# Introdução\n",
        "O desafio do curso Praticando Python para Data Science: Challenge Alura Store tem como principal objetivo analisar e apoiar a decisão do senhor João sobre qual das suas quatro lojas da Alura Store (Loja, Loja2, Loja3 e Loja4) deve ser vendida.\n",
        "\n",
        "Foram considerados alguns fatores para embasar essa decisão. Os principais são:\n",
        "\n",
        "* Análise do Faturamento\n",
        "* Vendas por Categoria\n",
        "* Média de Avaliação das Lojas\n",
        "* Produtos Mais e Menos Vendidos\n",
        "* Frete Médio por Loja\n",
        "\n",
        "\n",
        "\n",
        "\n",
        "\n",
        "\n",
        "\n",
        "\n"
      ]
    },
    {
      "cell_type": "markdown",
      "metadata": {
        "id": "9PDKswFm0KD_"
      },
      "source": [
        "# Analise:"
      ]
    },
    {
      "cell_type": "markdown",
      "metadata": {
        "id": "FgLynTLywlpq"
      },
      "source": [
        "## Análise do faturamento\n",
        "\n",
        "Foi calculado o faturamento total das lojas, que somou 5.871.490,79, com uma média de faturamento de 1.467.872,69 por loja.\n",
        "\n",
        "A loja com menor faturamento foi a Loja4, com 1.384.497,58, enquanto a loja com maior faturamento foi a primeira Loja, com 1.488.459,05.\n",
        "\n",
        "<img src='img/Análise do faturamento2.png' alt='Gráfico com faturamento das lojas2'>\n",
        "<img src='img/Análise do faturamento.png' alt='Gráfico com faturamento das lojas'>"
      ]
    },
    {
      "cell_type": "markdown",
      "metadata": {
        "id": "TPCcktfE0PEE"
      },
      "source": [
        "# Vendas por Categoria\n",
        "\n",
        "Foram analisadas as categorias de produtos de cada loja. As categorias com maior volume de vendas foram Móveis e Eletrônicos, enquanto as com menor número de vendas foram Utilidades Domésticas, Livros e Instrumentos Musicais.\n",
        "\n",
        "Houve um equilíbrio considerável nas vendas por categoria entre as quatro lojas, o que demonstra um padrão de consumo semelhante entre elas.\n",
        "\n",
        "<img src='img/Vendas por Categoria2.png' alt='Vendas por Categoria2'>\n",
        "<img src='img/Vendas por Categoria.png' alt='Vendas por Categoria'>\n",
        "<img src='img/Captura de tela 2025-04-30 165408.png' alt='Vendas por Categoria'>"
      ]
    },
    {
      "cell_type": "markdown",
      "metadata": {
        "id": "BTnE5u6i2ssu"
      },
      "source": [
        "# Média de Avaliação das Lojas\n",
        "\n",
        "Foi calculada a média das avaliações recebidas por cada loja. A Loja3 obteve a melhor média, com 4,048, arredondada para 4,05. Já a primeira Loja teve a menor média, com 3,976, arredondada para 3,98.\n",
        "\n",
        "<img src='img/Média de Avaliação das Lojas2.png' alt=' Média de Avaliação das Lojas2'>\n",
        "<img src='img/Média de Avaliação das Lojas.png' alt=' Média de Avaliação das Lojas'>"
      ]
    },
    {
      "cell_type": "markdown",
      "metadata": {
        "id": "LIYg0N17Fopt"
      },
      "source": [
        "# Produtos Mais e Menos Vendidos\n",
        "\n",
        "Na análise de desempenho por produto:\n",
        "\n",
        "* O produto menos vendido foi um jogo de tabuleiro, com 32 unidades vendidas na Loja2.\n",
        "\n",
        "* O produto mais vendido também foi da Loja2: o curso \"Iniciante em Programação\", com 65 unidades vendidas.\n",
        "\n",
        "Assim, a Loja2 concentrou tanto o produto com menor quanto com maior volume de vendas.\n",
        "\n",
        "<img src='img/Produtos Mais e Menos Vendidos2.png' alt='Produtos Mais e Menos Vendidos2'>\n",
        "<img src='img/Produtos Mais e Menos Vendidos.png' alt='Produtos Mais e Menos Vendidos'>"
      ]
    },
    {
      "cell_type": "markdown",
      "metadata": {
        "id": "rkda_NNyHVs_"
      },
      "source": [
        "# Frete Médio por Loja\n",
        "\n",
        "Foi calculado o custo médio de frete em cada loja:\n",
        "\n",
        "* A a primeira Loja apresentou o maior custo médio de frete, com 34,69, valor acima da média geral, que foi de 33,16.\n",
        "\n",
        "* A Loja4 teve o menor custo médio, com 31,27, ficando abaixo da média geral.\n",
        "\n",
        "<img src='img/Frete Médio por Loja2.png' alt='Frete Médio por Loja2'>\n",
        "<img src='img/Frete Médio por Loja.png' alt='Frete Médio por Loja'>"
      ]
    },
    {
      "cell_type": "markdown",
      "metadata": {
        "id": "porwiA3dKPH1"
      },
      "source": [
        "# Conclusão\n",
        "Com base nas analises acima a Loja que menos se destaca e é a candidata mais adequada para ser vendida e a Loja4 pois:\n",
        "\n",
        "* Menor Faturamento: Loja4 teve o menor faturamento total: 1.384.497,58, e está abaixo da média das quatro lojas (1.467.872,69).\n",
        "\n",
        "* Menor custo médio de frete: Embora tenha o frete mais barato (31,27), esse dado não compensa o baixo faturamento, o que pode ser um dos reflexos da menor quatidade de volume de vendas.\n",
        "\n",
        "* Avaliação mediana: A Loja4 não se destacou nem a melhor nem a pior em quesitos de avaliação.\n",
        "\n",
        "* Padrão de consumo semelhante às outras: Isso facilita sua substituição pelas demais lojas."
      ]
    },
    {
      "cell_type": "markdown",
      "metadata": {
        "id": "RhEdWd9YUR6H"
      },
      "source": [
        "### Importação dos dados\n",
        "\n"
      ]
    },
    {
      "cell_type": "code",
      "execution_count": null,
      "metadata": {
        "colab": {
          "base_uri": "https://localhost:8080/",
          "height": 206
        },
        "id": "T3EvaeQ_INIL",
        "outputId": "d4bd2345-6409-412f-fdae-ab025f8a6da4"
      },
      "outputs": [
        {
          "data": {
            "application/vnd.google.colaboratory.intrinsic+json": {
              "summary": "{\n  \"name\": \"loja\",\n  \"rows\": 2359,\n  \"fields\": [\n    {\n      \"column\": \"Produto\",\n      \"properties\": {\n        \"dtype\": \"category\",\n        \"num_unique_values\": 51,\n        \"samples\": [\n          \"Viol\\u00e3o\",\n          \"Bola de basquete\",\n          \"Smartwatch\"\n        ],\n        \"semantic_type\": \"\",\n        \"description\": \"\"\n      }\n    },\n    {\n      \"column\": \"Categoria do Produto\",\n      \"properties\": {\n        \"dtype\": \"category\",\n        \"num_unique_values\": 8,\n        \"samples\": [\n          \"moveis\",\n          \"esporte e lazer\",\n          \"eletronicos\"\n        ],\n        \"semantic_type\": \"\",\n        \"description\": \"\"\n      }\n    },\n    {\n      \"column\": \"Pre\\u00e7o\",\n      \"properties\": {\n        \"dtype\": \"number\",\n        \"std\": 819.5827782539145,\n        \"min\": 10.07,\n        \"max\": 3969.38,\n        \"num_unique_values\": 2315,\n        \"samples\": [\n          446.11,\n          107.31,\n          65.86\n        ],\n        \"semantic_type\": \"\",\n        \"description\": \"\"\n      }\n    },\n    {\n      \"column\": \"Frete\",\n      \"properties\": {\n        \"dtype\": \"number\",\n        \"std\": 43.814183327408166,\n        \"min\": 0.0,\n        \"max\": 214.3770604781,\n        \"num_unique_values\": 2149,\n        \"samples\": [\n          83.815279607,\n          16.069664669,\n          14.0344876928\n        ],\n        \"semantic_type\": \"\",\n        \"description\": \"\"\n      }\n    },\n    {\n      \"column\": \"Data da Compra\",\n      \"properties\": {\n        \"dtype\": \"object\",\n        \"num_unique_values\": 1018,\n        \"samples\": [\n          \"15/09/2022\",\n          \"03/06/2020\",\n          \"06/11/2021\"\n        ],\n        \"semantic_type\": \"\",\n        \"description\": \"\"\n      }\n    },\n    {\n      \"column\": \"Vendedor\",\n      \"properties\": {\n        \"dtype\": \"category\",\n        \"num_unique_values\": 14,\n        \"samples\": [\n          \"Juliana Costa\",\n          \"Mariana Ferreira\",\n          \"Pedro Gomes\"\n        ],\n        \"semantic_type\": \"\",\n        \"description\": \"\"\n      }\n    },\n    {\n      \"column\": \"Local da compra\",\n      \"properties\": {\n        \"dtype\": \"category\",\n        \"num_unique_values\": 26,\n        \"samples\": [\n          \"TO\",\n          \"RN\",\n          \"SP\"\n        ],\n        \"semantic_type\": \"\",\n        \"description\": \"\"\n      }\n    },\n    {\n      \"column\": \"Avalia\\u00e7\\u00e3o da compra\",\n      \"properties\": {\n        \"dtype\": \"number\",\n        \"std\": 1,\n        \"min\": 1,\n        \"max\": 5,\n        \"num_unique_values\": 5,\n        \"samples\": [\n          1,\n          2,\n          5\n        ],\n        \"semantic_type\": \"\",\n        \"description\": \"\"\n      }\n    },\n    {\n      \"column\": \"Tipo de pagamento\",\n      \"properties\": {\n        \"dtype\": \"category\",\n        \"num_unique_values\": 4,\n        \"samples\": [\n          \"boleto\",\n          \"cartao_debito\",\n          \"cartao_credito\"\n        ],\n        \"semantic_type\": \"\",\n        \"description\": \"\"\n      }\n    },\n    {\n      \"column\": \"Quantidade de parcelas\",\n      \"properties\": {\n        \"dtype\": \"number\",\n        \"std\": 2,\n        \"min\": 1,\n        \"max\": 24,\n        \"num_unique_values\": 15,\n        \"samples\": [\n          7,\n          14,\n          8\n        ],\n        \"semantic_type\": \"\",\n        \"description\": \"\"\n      }\n    },\n    {\n      \"column\": \"lat\",\n      \"properties\": {\n        \"dtype\": \"number\",\n        \"std\": 5.372399916530833,\n        \"min\": -30.17,\n        \"max\": 1.41,\n        \"num_unique_values\": 26,\n        \"samples\": [\n          -9.46,\n          -5.81,\n          -22.19\n        ],\n        \"semantic_type\": \"\",\n        \"description\": \"\"\n      }\n    },\n    {\n      \"column\": \"lon\",\n      \"properties\": {\n        \"dtype\": \"number\",\n        \"std\": 4.183180020544179,\n        \"min\": -70.55,\n        \"max\": -36.59,\n        \"num_unique_values\": 26,\n        \"samples\": [\n          -48.26,\n          -36.59,\n          -48.79\n        ],\n        \"semantic_type\": \"\",\n        \"description\": \"\"\n      }\n    }\n  ]\n}",
              "type": "dataframe",
              "variable_name": "loja"
            },
            "text/html": [
              "\n",
              "  <div id=\"df-e7f4ec13-380f-44d9-af0d-0ef1100550f7\" class=\"colab-df-container\">\n",
              "    <div>\n",
              "<style scoped>\n",
              "    .dataframe tbody tr th:only-of-type {\n",
              "        vertical-align: middle;\n",
              "    }\n",
              "\n",
              "    .dataframe tbody tr th {\n",
              "        vertical-align: top;\n",
              "    }\n",
              "\n",
              "    .dataframe thead th {\n",
              "        text-align: right;\n",
              "    }\n",
              "</style>\n",
              "<table border=\"1\" class=\"dataframe\">\n",
              "  <thead>\n",
              "    <tr style=\"text-align: right;\">\n",
              "      <th></th>\n",
              "      <th>Produto</th>\n",
              "      <th>Categoria do Produto</th>\n",
              "      <th>Preço</th>\n",
              "      <th>Frete</th>\n",
              "      <th>Data da Compra</th>\n",
              "      <th>Vendedor</th>\n",
              "      <th>Local da compra</th>\n",
              "      <th>Avaliação da compra</th>\n",
              "      <th>Tipo de pagamento</th>\n",
              "      <th>Quantidade de parcelas</th>\n",
              "      <th>lat</th>\n",
              "      <th>lon</th>\n",
              "    </tr>\n",
              "  </thead>\n",
              "  <tbody>\n",
              "    <tr>\n",
              "      <th>0</th>\n",
              "      <td>Assistente virtual</td>\n",
              "      <td>eletronicos</td>\n",
              "      <td>219.08</td>\n",
              "      <td>9.249790</td>\n",
              "      <td>16/01/2021</td>\n",
              "      <td>Pedro Gomes</td>\n",
              "      <td>SP</td>\n",
              "      <td>4</td>\n",
              "      <td>cartao_credito</td>\n",
              "      <td>8</td>\n",
              "      <td>-22.19</td>\n",
              "      <td>-48.79</td>\n",
              "    </tr>\n",
              "    <tr>\n",
              "      <th>1</th>\n",
              "      <td>Mesa de jantar</td>\n",
              "      <td>moveis</td>\n",
              "      <td>256.35</td>\n",
              "      <td>11.234305</td>\n",
              "      <td>18/05/2022</td>\n",
              "      <td>Beatriz Moraes</td>\n",
              "      <td>RJ</td>\n",
              "      <td>1</td>\n",
              "      <td>cartao_credito</td>\n",
              "      <td>4</td>\n",
              "      <td>-22.25</td>\n",
              "      <td>-42.66</td>\n",
              "    </tr>\n",
              "    <tr>\n",
              "      <th>2</th>\n",
              "      <td>Jogo de tabuleiro</td>\n",
              "      <td>brinquedos</td>\n",
              "      <td>279.51</td>\n",
              "      <td>21.262681</td>\n",
              "      <td>15/03/2021</td>\n",
              "      <td>João Souza</td>\n",
              "      <td>DF</td>\n",
              "      <td>1</td>\n",
              "      <td>cartao_credito</td>\n",
              "      <td>1</td>\n",
              "      <td>-15.83</td>\n",
              "      <td>-47.86</td>\n",
              "    </tr>\n",
              "    <tr>\n",
              "      <th>3</th>\n",
              "      <td>Micro-ondas</td>\n",
              "      <td>eletrodomesticos</td>\n",
              "      <td>1009.99</td>\n",
              "      <td>54.667344</td>\n",
              "      <td>03/05/2022</td>\n",
              "      <td>João Souza</td>\n",
              "      <td>RS</td>\n",
              "      <td>4</td>\n",
              "      <td>boleto</td>\n",
              "      <td>1</td>\n",
              "      <td>-30.17</td>\n",
              "      <td>-53.50</td>\n",
              "    </tr>\n",
              "    <tr>\n",
              "      <th>4</th>\n",
              "      <td>Cadeira de escritório</td>\n",
              "      <td>moveis</td>\n",
              "      <td>446.99</td>\n",
              "      <td>26.964689</td>\n",
              "      <td>07/11/2020</td>\n",
              "      <td>Larissa Alves</td>\n",
              "      <td>MG</td>\n",
              "      <td>5</td>\n",
              "      <td>boleto</td>\n",
              "      <td>1</td>\n",
              "      <td>-18.10</td>\n",
              "      <td>-44.38</td>\n",
              "    </tr>\n",
              "  </tbody>\n",
              "</table>\n",
              "</div>\n",
              "    <div class=\"colab-df-buttons\">\n",
              "\n",
              "  <div class=\"colab-df-container\">\n",
              "    <button class=\"colab-df-convert\" onclick=\"convertToInteractive('df-e7f4ec13-380f-44d9-af0d-0ef1100550f7')\"\n",
              "            title=\"Convert this dataframe to an interactive table.\"\n",
              "            style=\"display:none;\">\n",
              "\n",
              "  <svg xmlns=\"http://www.w3.org/2000/svg\" height=\"24px\" viewBox=\"0 -960 960 960\">\n",
              "    <path d=\"M120-120v-720h720v720H120Zm60-500h600v-160H180v160Zm220 220h160v-160H400v160Zm0 220h160v-160H400v160ZM180-400h160v-160H180v160Zm440 0h160v-160H620v160ZM180-180h160v-160H180v160Zm440 0h160v-160H620v160Z\"/>\n",
              "  </svg>\n",
              "    </button>\n",
              "\n",
              "  <style>\n",
              "    .colab-df-container {\n",
              "      display:flex;\n",
              "      gap: 12px;\n",
              "    }\n",
              "\n",
              "    .colab-df-convert {\n",
              "      background-color: #E8F0FE;\n",
              "      border: none;\n",
              "      border-radius: 50%;\n",
              "      cursor: pointer;\n",
              "      display: none;\n",
              "      fill: #1967D2;\n",
              "      height: 32px;\n",
              "      padding: 0 0 0 0;\n",
              "      width: 32px;\n",
              "    }\n",
              "\n",
              "    .colab-df-convert:hover {\n",
              "      background-color: #E2EBFA;\n",
              "      box-shadow: 0px 1px 2px rgba(60, 64, 67, 0.3), 0px 1px 3px 1px rgba(60, 64, 67, 0.15);\n",
              "      fill: #174EA6;\n",
              "    }\n",
              "\n",
              "    .colab-df-buttons div {\n",
              "      margin-bottom: 4px;\n",
              "    }\n",
              "\n",
              "    [theme=dark] .colab-df-convert {\n",
              "      background-color: #3B4455;\n",
              "      fill: #D2E3FC;\n",
              "    }\n",
              "\n",
              "    [theme=dark] .colab-df-convert:hover {\n",
              "      background-color: #434B5C;\n",
              "      box-shadow: 0px 1px 3px 1px rgba(0, 0, 0, 0.15);\n",
              "      filter: drop-shadow(0px 1px 2px rgba(0, 0, 0, 0.3));\n",
              "      fill: #FFFFFF;\n",
              "    }\n",
              "  </style>\n",
              "\n",
              "    <script>\n",
              "      const buttonEl =\n",
              "        document.querySelector('#df-e7f4ec13-380f-44d9-af0d-0ef1100550f7 button.colab-df-convert');\n",
              "      buttonEl.style.display =\n",
              "        google.colab.kernel.accessAllowed ? 'block' : 'none';\n",
              "\n",
              "      async function convertToInteractive(key) {\n",
              "        const element = document.querySelector('#df-e7f4ec13-380f-44d9-af0d-0ef1100550f7');\n",
              "        const dataTable =\n",
              "          await google.colab.kernel.invokeFunction('convertToInteractive',\n",
              "                                                    [key], {});\n",
              "        if (!dataTable) return;\n",
              "\n",
              "        const docLinkHtml = 'Like what you see? Visit the ' +\n",
              "          '<a target=\"_blank\" href=https://colab.research.google.com/notebooks/data_table.ipynb>data table notebook</a>'\n",
              "          + ' to learn more about interactive tables.';\n",
              "        element.innerHTML = '';\n",
              "        dataTable['output_type'] = 'display_data';\n",
              "        await google.colab.output.renderOutput(dataTable, element);\n",
              "        const docLink = document.createElement('div');\n",
              "        docLink.innerHTML = docLinkHtml;\n",
              "        element.appendChild(docLink);\n",
              "      }\n",
              "    </script>\n",
              "  </div>\n",
              "\n",
              "\n",
              "    <div id=\"df-23fe0204-a346-4a74-8d57-771b9009ce0e\">\n",
              "      <button class=\"colab-df-quickchart\" onclick=\"quickchart('df-23fe0204-a346-4a74-8d57-771b9009ce0e')\"\n",
              "                title=\"Suggest charts\"\n",
              "                style=\"display:none;\">\n",
              "\n",
              "<svg xmlns=\"http://www.w3.org/2000/svg\" height=\"24px\"viewBox=\"0 0 24 24\"\n",
              "     width=\"24px\">\n",
              "    <g>\n",
              "        <path d=\"M19 3H5c-1.1 0-2 .9-2 2v14c0 1.1.9 2 2 2h14c1.1 0 2-.9 2-2V5c0-1.1-.9-2-2-2zM9 17H7v-7h2v7zm4 0h-2V7h2v10zm4 0h-2v-4h2v4z\"/>\n",
              "    </g>\n",
              "</svg>\n",
              "      </button>\n",
              "\n",
              "<style>\n",
              "  .colab-df-quickchart {\n",
              "      --bg-color: #E8F0FE;\n",
              "      --fill-color: #1967D2;\n",
              "      --hover-bg-color: #E2EBFA;\n",
              "      --hover-fill-color: #174EA6;\n",
              "      --disabled-fill-color: #AAA;\n",
              "      --disabled-bg-color: #DDD;\n",
              "  }\n",
              "\n",
              "  [theme=dark] .colab-df-quickchart {\n",
              "      --bg-color: #3B4455;\n",
              "      --fill-color: #D2E3FC;\n",
              "      --hover-bg-color: #434B5C;\n",
              "      --hover-fill-color: #FFFFFF;\n",
              "      --disabled-bg-color: #3B4455;\n",
              "      --disabled-fill-color: #666;\n",
              "  }\n",
              "\n",
              "  .colab-df-quickchart {\n",
              "    background-color: var(--bg-color);\n",
              "    border: none;\n",
              "    border-radius: 50%;\n",
              "    cursor: pointer;\n",
              "    display: none;\n",
              "    fill: var(--fill-color);\n",
              "    height: 32px;\n",
              "    padding: 0;\n",
              "    width: 32px;\n",
              "  }\n",
              "\n",
              "  .colab-df-quickchart:hover {\n",
              "    background-color: var(--hover-bg-color);\n",
              "    box-shadow: 0 1px 2px rgba(60, 64, 67, 0.3), 0 1px 3px 1px rgba(60, 64, 67, 0.15);\n",
              "    fill: var(--button-hover-fill-color);\n",
              "  }\n",
              "\n",
              "  .colab-df-quickchart-complete:disabled,\n",
              "  .colab-df-quickchart-complete:disabled:hover {\n",
              "    background-color: var(--disabled-bg-color);\n",
              "    fill: var(--disabled-fill-color);\n",
              "    box-shadow: none;\n",
              "  }\n",
              "\n",
              "  .colab-df-spinner {\n",
              "    border: 2px solid var(--fill-color);\n",
              "    border-color: transparent;\n",
              "    border-bottom-color: var(--fill-color);\n",
              "    animation:\n",
              "      spin 1s steps(1) infinite;\n",
              "  }\n",
              "\n",
              "  @keyframes spin {\n",
              "    0% {\n",
              "      border-color: transparent;\n",
              "      border-bottom-color: var(--fill-color);\n",
              "      border-left-color: var(--fill-color);\n",
              "    }\n",
              "    20% {\n",
              "      border-color: transparent;\n",
              "      border-left-color: var(--fill-color);\n",
              "      border-top-color: var(--fill-color);\n",
              "    }\n",
              "    30% {\n",
              "      border-color: transparent;\n",
              "      border-left-color: var(--fill-color);\n",
              "      border-top-color: var(--fill-color);\n",
              "      border-right-color: var(--fill-color);\n",
              "    }\n",
              "    40% {\n",
              "      border-color: transparent;\n",
              "      border-right-color: var(--fill-color);\n",
              "      border-top-color: var(--fill-color);\n",
              "    }\n",
              "    60% {\n",
              "      border-color: transparent;\n",
              "      border-right-color: var(--fill-color);\n",
              "    }\n",
              "    80% {\n",
              "      border-color: transparent;\n",
              "      border-right-color: var(--fill-color);\n",
              "      border-bottom-color: var(--fill-color);\n",
              "    }\n",
              "    90% {\n",
              "      border-color: transparent;\n",
              "      border-bottom-color: var(--fill-color);\n",
              "    }\n",
              "  }\n",
              "</style>\n",
              "\n",
              "      <script>\n",
              "        async function quickchart(key) {\n",
              "          const quickchartButtonEl =\n",
              "            document.querySelector('#' + key + ' button');\n",
              "          quickchartButtonEl.disabled = true;  // To prevent multiple clicks.\n",
              "          quickchartButtonEl.classList.add('colab-df-spinner');\n",
              "          try {\n",
              "            const charts = await google.colab.kernel.invokeFunction(\n",
              "                'suggestCharts', [key], {});\n",
              "          } catch (error) {\n",
              "            console.error('Error during call to suggestCharts:', error);\n",
              "          }\n",
              "          quickchartButtonEl.classList.remove('colab-df-spinner');\n",
              "          quickchartButtonEl.classList.add('colab-df-quickchart-complete');\n",
              "        }\n",
              "        (() => {\n",
              "          let quickchartButtonEl =\n",
              "            document.querySelector('#df-23fe0204-a346-4a74-8d57-771b9009ce0e button');\n",
              "          quickchartButtonEl.style.display =\n",
              "            google.colab.kernel.accessAllowed ? 'block' : 'none';\n",
              "        })();\n",
              "      </script>\n",
              "    </div>\n",
              "\n",
              "    </div>\n",
              "  </div>\n"
            ],
            "text/plain": [
              "                 Produto Categoria do Produto    Preço      Frete  \\\n",
              "0     Assistente virtual          eletronicos   219.08   9.249790   \n",
              "1         Mesa de jantar               moveis   256.35  11.234305   \n",
              "2      Jogo de tabuleiro           brinquedos   279.51  21.262681   \n",
              "3            Micro-ondas     eletrodomesticos  1009.99  54.667344   \n",
              "4  Cadeira de escritório               moveis   446.99  26.964689   \n",
              "\n",
              "  Data da Compra        Vendedor Local da compra  Avaliação da compra  \\\n",
              "0     16/01/2021     Pedro Gomes              SP                    4   \n",
              "1     18/05/2022  Beatriz Moraes              RJ                    1   \n",
              "2     15/03/2021      João Souza              DF                    1   \n",
              "3     03/05/2022      João Souza              RS                    4   \n",
              "4     07/11/2020   Larissa Alves              MG                    5   \n",
              "\n",
              "  Tipo de pagamento  Quantidade de parcelas    lat    lon  \n",
              "0    cartao_credito                       8 -22.19 -48.79  \n",
              "1    cartao_credito                       4 -22.25 -42.66  \n",
              "2    cartao_credito                       1 -15.83 -47.86  \n",
              "3            boleto                       1 -30.17 -53.50  \n",
              "4            boleto                       1 -18.10 -44.38  "
            ]
          },
          "execution_count": 79,
          "metadata": {},
          "output_type": "execute_result"
        }
      ],
      "source": [
        "import pandas as pd\n",
        "\n",
        "url = \"https://raw.githubusercontent.com/alura-es-cursos/challenge1-data-science/refs/heads/main/base-de-dados-challenge-1/loja_1.csv\"\n",
        "url2 = \"https://raw.githubusercontent.com/alura-es-cursos/challenge1-data-science/refs/heads/main/base-de-dados-challenge-1/loja_2.csv\"\n",
        "url3 = \"https://raw.githubusercontent.com/alura-es-cursos/challenge1-data-science/refs/heads/main/base-de-dados-challenge-1/loja_3.csv\"\n",
        "url4 = \"https://raw.githubusercontent.com/alura-es-cursos/challenge1-data-science/refs/heads/main/base-de-dados-challenge-1/loja_4.csv\"\n",
        "\n",
        "loja = pd.read_csv(url)\n",
        "loja2 = pd.read_csv(url2)\n",
        "loja3 = pd.read_csv(url3)\n",
        "loja4 = pd.read_csv(url4)\n",
        "\n",
        "loja.head()\n"
      ]
    },
    {
      "cell_type": "markdown",
      "metadata": {
        "id": "X62IW3KFUIYm"
      },
      "source": [
        "#1. Análise do faturamento\n"
      ]
    },
    {
      "cell_type": "code",
      "execution_count": null,
      "metadata": {
        "id": "xykobSftV64I"
      },
      "outputs": [],
      "source": [
        "def faturamento_total(loja):\n",
        "  soma_preco_loja = 0\n",
        "  for x in loja['Preço']:\n",
        "    soma_preco_loja +=x\n",
        "  return soma_preco_loja\n",
        "\n",
        "lojas = ['Loja', 'Loja2', 'Loja3', 'Loja4']\n",
        "soma_preco_loja =[]\n",
        "\n",
        "soma_preco_loja.append(faturamento_total(loja))\n",
        "soma_preco_loja.append(faturamento_total(loja2))\n",
        "soma_preco_loja.append(faturamento_total(loja3))\n",
        "soma_preco_loja.append(faturamento_total(loja4))\n",
        "\n",
        "fatutotal = sum(soma_preco_loja)\n",
        "mediafatu = fatutotal/len(soma_preco_loja)\n"
      ]
    },
    {
      "cell_type": "code",
      "execution_count": null,
      "metadata": {
        "colab": {
          "base_uri": "https://localhost:8080/"
        },
        "id": "z8mIPb3zUlSJ",
        "outputId": "7548a831-fd3d-4779-ff8e-8d645f35a0ca"
      },
      "outputs": [
        {
          "name": "stdout",
          "output_type": "stream",
          "text": [
            "Loja: 1534509.120000001\n",
            "\n",
            "Loja 2: 1488459.059999997\n",
            "\n",
            "Loja 3: 1464025.0300000003\n",
            "\n",
            "Loja 4: 1384497.5800000026\n",
            "\n",
            "Faturamento Total: 5871490.790000001 \n",
            "\n",
            "Media de faturamento: 1467872.6975000002\n"
          ]
        }
      ],
      "source": [
        "print(f\"Loja: {soma_preco_loja[0]}\\n\\nLoja 2: {soma_preco_loja[1]}\\n\\nLoja 3: {soma_preco_loja[2]}\\n\\nLoja 4: {soma_preco_loja[3]}\")\n",
        "print(f'\\nFaturamento Total: {fatutotal} \\n\\nMedia de faturamento: {mediafatu}')\n"
      ]
    },
    {
      "cell_type": "code",
      "execution_count": null,
      "metadata": {
        "colab": {
          "base_uri": "https://localhost:8080/",
          "height": 472
        },
        "id": "2AZzR0hnaW3Z",
        "outputId": "96095e74-fc86-49f4-fd18-a404934439dc"
      },
      "outputs": [
        {
          "data": {
            "image/png": "[encoded data removed]",
            "text/plain": [
              "<Figure size 640x480 with 1 Axes>"
            ]
          },
          "metadata": {},
          "output_type": "display_data"
        }
      ],
      "source": [
        "import matplotlib.pyplot as plt\n",
        "import numpy as np\n",
        "\n",
        "colors = np.array(['red', 'green', 'blue', 'black'])\n",
        "\n",
        "plt.ylim(1000000, 1600000)\n",
        "plt.bar(x=lojas, height=soma_preco_loja, color=colors)\n",
        "plt.title('Faturamento por Loja')\n",
        "plt.xlabel('Lojas')\n",
        "plt.ylabel('Faturamento Bruto')\n",
        "\n",
        "for i in range(len(lojas)):\n",
        "    plt.text(i, soma_preco_loja[i] + 5000, f'{int(soma_preco_loja[i]):,}', ha='center')\n",
        "\n",
        "plt.show()\n"
      ]
    },
    {
      "cell_type": "markdown",
      "metadata": {
        "id": "2V_vcAPzWZmR"
      },
      "source": [
        "# 2. Vendas por Categoria\n"
      ]
    },
    {
      "cell_type": "code",
      "execution_count": null,
      "metadata": {
        "id": "A34YupIuYhfF"
      },
      "outputs": [],
      "source": [
        "def categoria_mais_populares(loja):\n",
        "  contagem = loja['Categoria do Produto'].value_counts()\n",
        "  return contagem\n",
        "\n",
        "qtd_loja = []\n",
        "qtd_loja.append(categoria_mais_populares(loja))\n",
        "qtd_loja.append(categoria_mais_populares(loja2))\n",
        "qtd_loja.append(categoria_mais_populares(loja3))\n",
        "qtd_loja.append(categoria_mais_populares(loja4))"
      ]
    },
    {
      "cell_type": "code",
      "execution_count": null,
      "metadata": {
        "colab": {
          "base_uri": "https://localhost:8080/"
        },
        "id": "bdeIRdKmiqvE",
        "outputId": "4271bd7a-d297-46bb-c366-e527bdb80fb7"
      },
      "outputs": [
        {
          "name": "stdout",
          "output_type": "stream",
          "text": [
            "Loja: Categoria do Produto\n",
            "moveis                   465\n",
            "eletronicos              448\n",
            "brinquedos               324\n",
            "eletrodomesticos         312\n",
            "esporte e lazer          284\n",
            "instrumentos musicais    182\n",
            "livros                   173\n",
            "utilidades domesticas    171\n",
            "Name: count, dtype: int64\n",
            "\n",
            "Loja 2: Categoria do Produto\n",
            "moveis                   442\n",
            "eletronicos              422\n",
            "brinquedos               313\n",
            "eletrodomesticos         305\n",
            "esporte e lazer          275\n",
            "instrumentos musicais    224\n",
            "livros                   197\n",
            "utilidades domesticas    181\n",
            "Name: count, dtype: int64\n",
            "\n",
            "Loja 3: Categoria do Produto\n",
            "moveis                   499\n",
            "eletronicos              451\n",
            "brinquedos               315\n",
            "eletrodomesticos         278\n",
            "esporte e lazer          277\n",
            "livros                   185\n",
            "instrumentos musicais    177\n",
            "utilidades domesticas    177\n",
            "Name: count, dtype: int64\n",
            "\n",
            "Loja 4: Categoria do Produto\n",
            "moveis                   480\n",
            "eletronicos              451\n",
            "brinquedos               338\n",
            "esporte e lazer          277\n",
            "eletrodomesticos         254\n",
            "utilidades domesticas    201\n",
            "livros                   187\n",
            "instrumentos musicais    170\n",
            "Name: count, dtype: int64\n"
          ]
        }
      ],
      "source": [
        "print(f\"Loja: {qtd_loja[0]}\\n\\nLoja 2: {qtd_loja[1]}\\n\\nLoja 3: {qtd_loja[2]}\\n\\nLoja 4: {qtd_loja[3]}\")"
      ]
    },
    {
      "cell_type": "code",
      "execution_count": null,
      "metadata": {
        "colab": {
          "base_uri": "https://localhost:8080/",
          "height": 825
        },
        "id": "wxxGBipCBrhZ",
        "outputId": "490fcf4a-9b0f-4a20-9979-c6d68dfe31c1"
      },
      "outputs": [
        {
          "data": {
            "image/png": "[encoded data removed]",
            "text/plain": [
              "<Figure size 1200x800 with 1 Axes>"
            ]
          },
          "metadata": {},
          "output_type": "display_data"
        },
        {
          "name": "stdout",
          "output_type": "stream",
          "text": [
            "A Loja1 e a Loja\n"
          ]
        }
      ],
      "source": [
        "todas_categorias = sorted(set().union(*[s.index for s in qtd_loja]))\n",
        "qtd_loja = [s.reindex(todas_categorias, fill_value=0) for s in qtd_loja]\n",
        "\n",
        "fig, ax = plt.subplots(figsize=(12, 8))\n",
        "\n",
        "cores = ['red', 'green', 'blue', 'black']\n",
        "\n",
        "n_lojas = len(qtd_loja)\n",
        "bar_width = 0.8 / n_lojas\n",
        "\n",
        "y_positions = np.arange(len(todas_categorias))\n",
        "\n",
        "for i, contagem in enumerate(qtd_loja):\n",
        "    ax.barh(\n",
        "        y=y_positions + (i - n_lojas / 2) * bar_width + bar_width / 2,\n",
        "        width=contagem.values,\n",
        "        height=bar_width,\n",
        "        color=cores[i],\n",
        "        label=f'Loja {i+1}'\n",
        "    )\n",
        "\n",
        "ax.set_yticks(y_positions)\n",
        "ax.set_yticklabels(todas_categorias)\n",
        "plt.title('Categorias Mais Populares por Loja')\n",
        "plt.xlabel('Quantidade')\n",
        "plt.ylabel('Categoria do Produto')\n",
        "plt.legend(title=\"Loja\", bbox_to_anchor=(1.05, 1), loc='upper left')\n",
        "\n",
        "plt.tight_layout()\n",
        "plt.show()\n",
        "print('A Loja1 e a Loja.')"
      ]
    },
    {
      "cell_type": "markdown",
      "metadata": {
        "id": "Rq6tU_xSY3jk"
      },
      "source": [
        "# 3. Média de Avaliação das Lojas"
      ]
    },
    {
      "cell_type": "code",
      "execution_count": null,
      "metadata": {
        "id": "bh3jjjJwY5MU"
      },
      "outputs": [],
      "source": [
        "def satisfacao(loja):\n",
        "  soma_avaliacao = sum(loja['Avaliação da compra'])\n",
        "  qtd_avaliacao = len(loja['Avaliação da compra'])\n",
        "  media_avaliacao = soma_avaliacao/qtd_avaliacao\n",
        "\n",
        "  return media_avaliacao\n",
        "satis_loja = []\n",
        "satis_loja.append(satisfacao(loja))\n",
        "satis_loja.append(satisfacao(loja2))\n",
        "satis_loja.append(satisfacao(loja3))\n",
        "satis_loja.append(satisfacao(loja4))"
      ]
    },
    {
      "cell_type": "code",
      "execution_count": null,
      "metadata": {
        "colab": {
          "base_uri": "https://localhost:8080/"
        },
        "id": "I0KkjPoTY88F",
        "outputId": "ee6eef78-f6a7-4624-fcf5-12d26701c648"
      },
      "outputs": [
        {
          "name": "stdout",
          "output_type": "stream",
          "text": [
            "Loja: 3.976685036032217\n",
            "\n",
            "Loja 2: 4.037303942348453\n",
            "\n",
            "Loja 3: 4.048325561678677\n",
            "\n",
            "Loja 4: 3.9957591178965224\n"
          ]
        }
      ],
      "source": [
        "print(f\"Loja: {satis_loja[0]}\\n\\nLoja 2: {satis_loja[1]}\\n\\nLoja 3: {satis_loja[2]}\\n\\nLoja 4: {satis_loja[3]}\")"
      ]
    },
    {
      "cell_type": "code",
      "execution_count": null,
      "metadata": {
        "colab": {
          "base_uri": "https://localhost:8080/",
          "height": 424
        },
        "id": "cvpeJ17sfxwR",
        "outputId": "acc69b30-1ccb-478e-dbd2-e47a36b25d80"
      },
      "outputs": [
        {
          "data": {
            "text/plain": [
              "<matplotlib.legend.Legend at 0x78a282c43510>"
            ]
          },
          "execution_count": 12,
          "metadata": {},
          "output_type": "execute_result"
        },
        {
          "data": {
            "image/png": "[encoded data removed]",
            "text/plain": [
              "<Figure size 640x480 with 1 Axes>"
            ]
          },
          "metadata": {},
          "output_type": "display_data"
        }
      ],
      "source": [
        "color = ['red', 'green', 'blue', 'black']\n",
        "plt.pie(satis_loja, labels=lojas, shadow=True, colors=color)\n",
        "plt.legend([f'{x:.2f}' for x in satis_loja], fontsize =10, loc ='upper center')"
      ]
    },
    {
      "cell_type": "markdown",
      "metadata": {
        "id": "DmNp1KPBZCm-"
      },
      "source": [
        "# 4. Produtos Mais e Menos Vendidos"
      ]
    },
    {
      "cell_type": "code",
      "execution_count": null,
      "metadata": {
        "id": "STRMrmr7z-uF"
      },
      "outputs": [],
      "source": [
        "def qtd_mais_menos(loja):\n",
        "  contagem = loja['Produto'].value_counts()\n",
        "\n",
        "  qtd_mais_vendido = contagem.max()\n",
        "  qtd_menos_vendido = contagem.min()\n",
        "\n",
        "  return qtd_mais_vendido, qtd_menos_vendido\n",
        "\n",
        "def produto_mais_menos(loja):\n",
        "  contagem = loja['Produto'].value_counts()\n",
        "\n",
        "  pro_mais_vendido = contagem.idxmax()\n",
        "  pro_menos_vendido = contagem.idxmin()\n",
        "\n",
        "\n",
        "  return pro_mais_vendido, pro_menos_vendido\n",
        "\n",
        "qtdmais_menos_loja = []\n",
        "qtdmais_menos_loja.append(qtd_mais_menos(loja))\n",
        "qtdmais_menos_loja.append(qtd_mais_menos(loja2))\n",
        "qtdmais_menos_loja.append(qtd_mais_menos(loja3))\n",
        "qtdmais_menos_loja.append(qtd_mais_menos(loja4))\n",
        "lista_simplesqtd = [item for tupla in qtdmais_menos_loja for item in tupla]\n",
        "\n",
        "\n",
        "promais_menos_loja = []\n",
        "promais_menos_loja.append(produto_mais_menos(loja))\n",
        "promais_menos_loja.append(produto_mais_menos(loja2))\n",
        "promais_menos_loja.append(produto_mais_menos(loja3))\n",
        "promais_menos_loja.append(produto_mais_menos(loja4))\n",
        "lista_simplespro = [item for tupla in promais_menos_loja for item in tupla]\n",
        "lojass = ['Loja', 'Loja', 'Loja2', 'Loja2', 'Loja3', 'Loja3', 'Loja4', 'Loja4']"
      ]
    },
    {
      "cell_type": "code",
      "execution_count": null,
      "metadata": {
        "colab": {
          "base_uri": "https://localhost:8080/"
        },
        "id": "0Sw3sd4IZIGW",
        "outputId": "3df43b93-4c4f-4c54-de3c-9037f82a59be"
      },
      "outputs": [
        {
          "name": "stdout",
          "output_type": "stream",
          "text": [
            "Loja: (('Micro-ondas', 'Headset'), (60, 33))\n",
            "\n",
            "Loja 2: (('Iniciando em programação', 'Jogo de tabuleiro'), (65, 32))\n",
            "\n",
            "Loja 3: (('Kit banquetas', 'Blocos de montar'), (57, 35))\n",
            "\n",
            "Loja 4: (('Cama box', 'Guitarra'), (62, 33))\n"
          ]
        }
      ],
      "source": [
        "print(f\"Loja: {promais_menos_loja[0], qtdmais_menos_loja[0]}\\n\\nLoja 2: {promais_menos_loja[1], qtdmais_menos_loja[1]}\\n\\nLoja 3: {promais_menos_loja[2], qtdmais_menos_loja[2]}\\n\\nLoja 4: {promais_menos_loja[3], qtdmais_menos_loja[3]}\")"
      ]
    },
    {
      "cell_type": "code",
      "execution_count": null,
      "metadata": {
        "colab": {
          "base_uri": "https://localhost:8080/",
          "height": 607
        },
        "id": "193awo9w2mYT",
        "outputId": "78663304-c012-4afd-894e-9b85e81ee4cc"
      },
      "outputs": [
        {
          "data": {
            "image/png": "[encoded data removed]",
            "text/plain": [
              "<Figure size 1000x600 with 1 Axes>"
            ]
          },
          "metadata": {},
          "output_type": "display_data"
        }
      ],
      "source": [
        "plt.figure(figsize=(10,6))\n",
        "colors = np.array(['red','red','green', 'green','blue', 'blue', 'black','black'])\n",
        "plt.scatter(lista_simplesqtd, lojass, color= colors )\n",
        "\n",
        "\n",
        "for x, y, produto in zip(lista_simplesqtd, lojass, lista_simplespro):\n",
        "    plt.text(x + 1, y, produto, va='center')\n",
        "\n",
        "plt.xlabel('Quantidade Vendida')\n",
        "plt.title('Produtos Mais e Menos Vendidos por Loja')\n",
        "plt.tight_layout()\n",
        "plt.show()"
      ]
    },
    {
      "cell_type": "markdown",
      "metadata": {
        "id": "Fl0cGi3bZKqU"
      },
      "source": [
        "# 5. Frete Médio por Loja\n"
      ]
    },
    {
      "cell_type": "code",
      "execution_count": null,
      "metadata": {
        "id": "S2JeaCykZNy9"
      },
      "outputs": [],
      "source": [
        "def frete_medio(loja):\n",
        "  soma_fre = sum(loja['Frete'])\n",
        "  qtd_fre = len(loja['Frete'])\n",
        "  fre_loja = soma_fre/qtd_fre\n",
        "  return fre_loja\n",
        "\n",
        "fre_loja = []\n",
        "fre_loja.append(frete_medio(loja))\n",
        "fre_loja.append(frete_medio(loja2))\n",
        "fre_loja.append(frete_medio(loja3))\n",
        "fre_loja.append(frete_medio(loja4))\n"
      ]
    },
    {
      "cell_type": "code",
      "execution_count": null,
      "metadata": {
        "colab": {
          "base_uri": "https://localhost:8080/"
        },
        "id": "0tSdCie9ZQlt",
        "outputId": "2b658785-38f5-4c35-af87-64ffaddb1162"
      },
      "outputs": [
        {
          "name": "stdout",
          "output_type": "stream",
          "text": [
            "Loja: 34.6918049155114\n",
            "\n",
            "Loja 2: 33.62194065817933\n",
            "\n",
            "Loja 3: 33.074464274117446\n",
            "\n",
            "Loja 4: 31.27899708184175\n"
          ]
        }
      ],
      "source": [
        "print(f\"Loja: {fre_loja[0]}\\n\\nLoja 2: {fre_loja[1]}\\n\\nLoja 3: {fre_loja[2]}\\n\\nLoja 4: {fre_loja[3]}\")"
      ]
    },
    {
      "cell_type": "code",
      "execution_count": null,
      "metadata": {
        "colab": {
          "base_uri": "https://localhost:8080/",
          "height": 432
        },
        "id": "G5s_CkSTAjQC",
        "outputId": "07aa0455-3b67-4c99-e659-eaf9e4a56efe"
      },
      "outputs": [
        {
          "data": {
            "image/png": "[encoded data removed]",
            "text/plain": [
              "<Figure size 640x480 with 1 Axes>"
            ]
          },
          "metadata": {},
          "output_type": "display_data"
        }
      ],
      "source": [
        "plt.plot(lojas, fre_loja, marker ='o', color = 'blue')\n",
        "for i in range(len(lojas)):\n",
        "    plt.text(i, fre_loja[i] + 0.08, f'{float(fre_loja[i]):,.2f}', ha='center')\n",
        "plt.show()"
      ]
    }
  ],
  "metadata": {
    "colab": {
      "provenance": []
    },
    "kernelspec": {
      "display_name": "Python 3",
      "name": "python3"
    },
    "language_info": {
      "name": "python"
    }
  },
  "nbformat": 4,
  "nbformat_minor": 0
}
